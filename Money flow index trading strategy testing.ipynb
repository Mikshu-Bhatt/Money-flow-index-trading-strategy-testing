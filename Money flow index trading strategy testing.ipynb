{
 "cells": [
  {
   "cell_type": "code",
   "execution_count": 4,
   "id": "joined-baseline",
   "metadata": {},
   "outputs": [],
   "source": [
    "import pandas as pd\n",
    "import numpy as np\n",
    "import datetime as dt\n",
    "import pickle\n",
    "import matplotlib.pyplot as plt\n"
   ]
  },
  {
   "cell_type": "code",
   "execution_count": 5,
   "id": "civic-tennessee",
   "metadata": {},
   "outputs": [
    {
     "data": {
      "text/html": [
       "<div>\n",
       "<style scoped>\n",
       "    .dataframe tbody tr th:only-of-type {\n",
       "        vertical-align: middle;\n",
       "    }\n",
       "\n",
       "    .dataframe tbody tr th {\n",
       "        vertical-align: top;\n",
       "    }\n",
       "\n",
       "    .dataframe thead th {\n",
       "        text-align: right;\n",
       "    }\n",
       "</style>\n",
       "<table border=\"1\" class=\"dataframe\">\n",
       "  <thead>\n",
       "    <tr style=\"text-align: right;\">\n",
       "      <th></th>\n",
       "      <th>High</th>\n",
       "      <th>Low</th>\n",
       "      <th>Open</th>\n",
       "      <th>Close</th>\n",
       "      <th>Volume</th>\n",
       "      <th>Adj Close</th>\n",
       "    </tr>\n",
       "    <tr>\n",
       "      <th>Date</th>\n",
       "      <th></th>\n",
       "      <th></th>\n",
       "      <th></th>\n",
       "      <th></th>\n",
       "      <th></th>\n",
       "      <th></th>\n",
       "    </tr>\n",
       "  </thead>\n",
       "  <tbody>\n",
       "    <tr>\n",
       "      <th>2018-01-01</th>\n",
       "      <td>1165.550049</td>\n",
       "      <td>1140.000000</td>\n",
       "      <td>1160.0</td>\n",
       "      <td>1146.500000</td>\n",
       "      <td>21776.0</td>\n",
       "      <td>1122.931519</td>\n",
       "    </tr>\n",
       "    <tr>\n",
       "      <th>2018-01-02</th>\n",
       "      <td>1149.400024</td>\n",
       "      <td>1134.949951</td>\n",
       "      <td>1145.0</td>\n",
       "      <td>1142.849976</td>\n",
       "      <td>22009.0</td>\n",
       "      <td>1119.356445</td>\n",
       "    </tr>\n",
       "    <tr>\n",
       "      <th>2018-01-03</th>\n",
       "      <td>1150.000000</td>\n",
       "      <td>1136.000000</td>\n",
       "      <td>1150.0</td>\n",
       "      <td>1141.099976</td>\n",
       "      <td>636697.0</td>\n",
       "      <td>1117.642578</td>\n",
       "    </tr>\n",
       "    <tr>\n",
       "      <th>2018-01-04</th>\n",
       "      <td>1178.699951</td>\n",
       "      <td>1148.199951</td>\n",
       "      <td>1149.5</td>\n",
       "      <td>1172.050049</td>\n",
       "      <td>75615.0</td>\n",
       "      <td>1147.956421</td>\n",
       "    </tr>\n",
       "    <tr>\n",
       "      <th>2018-01-05</th>\n",
       "      <td>1191.000000</td>\n",
       "      <td>1168.550049</td>\n",
       "      <td>1172.0</td>\n",
       "      <td>1183.750000</td>\n",
       "      <td>58612.0</td>\n",
       "      <td>1159.415771</td>\n",
       "    </tr>\n",
       "  </tbody>\n",
       "</table>\n",
       "</div>"
      ],
      "text/plain": [
       "                   High          Low    Open        Close    Volume  \\\n",
       "Date                                                                  \n",
       "2018-01-01  1165.550049  1140.000000  1160.0  1146.500000   21776.0   \n",
       "2018-01-02  1149.400024  1134.949951  1145.0  1142.849976   22009.0   \n",
       "2018-01-03  1150.000000  1136.000000  1150.0  1141.099976  636697.0   \n",
       "2018-01-04  1178.699951  1148.199951  1149.5  1172.050049   75615.0   \n",
       "2018-01-05  1191.000000  1168.550049  1172.0  1183.750000   58612.0   \n",
       "\n",
       "              Adj Close  \n",
       "Date                     \n",
       "2018-01-01  1122.931519  \n",
       "2018-01-02  1119.356445  \n",
       "2018-01-03  1117.642578  \n",
       "2018-01-04  1147.956421  \n",
       "2018-01-05  1159.415771  "
      ]
     },
     "execution_count": 5,
     "metadata": {},
     "output_type": "execute_result"
    }
   ],
   "source": [
    "### using asian paints company's data for analysis\n",
    "\n",
    "with open('M:/BSE_df/ASIANPAINT.BO.csv','rb') as file:\n",
    "    df_AP = pickle.load(file)\n",
    "df_AP.head()    "
   ]
  },
  {
   "cell_type": "code",
   "execution_count": 6,
   "id": "shared-titanium",
   "metadata": {},
   "outputs": [],
   "source": [
    "### claculating necessary values to find money flow index\n",
    "\n",
    "typical_price = (df_AP['High'] + df_AP['Low'] + df_AP['Adj Close']) / 3\n",
    "raw_mf = typical_price * df_AP['Volume']"
   ]
  },
  {
   "cell_type": "code",
   "execution_count": 7,
   "id": "domestic-adoption",
   "metadata": {},
   "outputs": [],
   "source": [
    "money_ratio = []\n",
    "positive_mf = []\n",
    "negative_mf = []\n",
    "positive_mf.append(raw_mf[0])\n",
    "for i in range(len(raw_mf)-1):\n",
    "    if raw_mf[i+1] > raw_mf[i]:\n",
    "        positive_mf.append(raw_mf[i])\n",
    "        negative_mf.append(0)\n",
    "    elif raw_mf[i+1] < raw_mf[i]:  \n",
    "        negative_mf.append(raw_mf[i])\n",
    "        positive_mf.append(0)\n",
    "money_ratio = pd.Series(positive_mf).rolling(14).sum()/pd.Series(negative_mf).rolling(14).sum()   "
   ]
  },
  {
   "cell_type": "code",
   "execution_count": 8,
   "id": "continued-faculty",
   "metadata": {},
   "outputs": [],
   "source": [
    "### money flow index\n",
    "\n",
    "MFI = 100* pd.Series(positive_mf).rolling(14,min_periods = 1).sum()/(pd.Series(positive_mf).rolling(14,min_periods = 1).sum() + pd.Series(negative_mf).rolling(14,min_periods = 1).sum())"
   ]
  },
  {
   "cell_type": "code",
   "execution_count": 9,
   "id": "biological-nature",
   "metadata": {},
   "outputs": [
    {
     "data": {
      "text/plain": [
       "0      100.000000\n",
       "1      100.000000\n",
       "2        9.376811\n",
       "3        8.448512\n",
       "4        7.839303\n",
       "5        7.839303\n",
       "6       10.881879\n",
       "7       12.896155\n",
       "8       12.553246\n",
       "9       12.553246\n",
       "10      14.154848\n",
       "11      13.659987\n",
       "12      13.659987\n",
       "13      15.191129\n",
       "14      15.415879\n",
       "15      17.192653\n",
       "16      35.434218\n",
       "17      27.194165\n",
       "18      28.285566\n",
       "19      40.114042\n",
       "20      38.346150\n",
       "21      40.806674\n",
       "22      41.530931\n",
       "23      40.215524\n",
       "24      39.389072\n",
       "25      39.341828\n",
       "26      39.341828\n",
       "27      38.543612\n",
       "28      38.029422\n",
       "29      38.181178\n",
       "          ...    \n",
       "752     21.141182\n",
       "753     21.141182\n",
       "754     23.816157\n",
       "755     23.816157\n",
       "756     35.296162\n",
       "757     35.296162\n",
       "758     36.664882\n",
       "759     39.211378\n",
       "760     39.211378\n",
       "761     41.786195\n",
       "762     39.580358\n",
       "763     38.211433\n",
       "764     38.500454\n",
       "765     35.592453\n",
       "766     38.215771\n",
       "767     38.215771\n",
       "768     38.325312\n",
       "769     38.135741\n",
       "770     36.959967\n",
       "771     36.598157\n",
       "772     34.478398\n",
       "773     35.059776\n",
       "774     37.770188\n",
       "775     34.048342\n",
       "776     31.124391\n",
       "777     31.124391\n",
       "778     30.393523\n",
       "779     32.745430\n",
       "780     34.910498\n",
       "781           NaN\n",
       "Length: 782, dtype: float64"
      ]
     },
     "execution_count": 9,
     "metadata": {},
     "output_type": "execute_result"
    }
   ],
   "source": [
    "MFI\n"
   ]
  },
  {
   "cell_type": "code",
   "execution_count": 72,
   "id": "round-piece",
   "metadata": {},
   "outputs": [],
   "source": [
    "### creating a function wich will show when to buy and when to sell, specific money is given to trade\n",
    "def buy_sell(df,max,min):\n",
    "    rs = 200000\n",
    "    buy_list = []\n",
    "    sell_list = []\n",
    "    flag = 0\n",
    "    num = []\n",
    "    number = 0\n",
    "    for i in range(len(MFI)):\n",
    "        if rs > 0:\n",
    "            if MFI[i] > max and flag != 0:\n",
    "                sell_list.append(df_AP['Adj Close'][i])\n",
    "                buy_list.append(np.nan)\n",
    "                flag = 0\n",
    "                rs = rs + df_AP['Adj Close'][i]*number\n",
    "                number = 0\n",
    "            elif MFI[i] < min and flag != 1:  \n",
    "                buy_list.append(df_AP['Adj Close'][i])\n",
    "                sell_list.append(np.nan)\n",
    "                flag = 1\n",
    "                number = int(rs/df_AP['Adj Close'][i])\n",
    "                rs = rs - df_AP['Adj Close'][i]*number\n",
    "                print(number,rs)\n",
    "                num.append(number)\n",
    "            else:\n",
    "                buy_list.append(np.nan)\n",
    "                sell_list.append(np.nan)\n",
    "                rs = rs\n",
    "        else:\n",
    "            buy_list.append(np.nan)\n",
    "            sell_list.append(np.nan)\n",
    "    return buy_list, sell_list,num "
   ]
  },
  {
   "cell_type": "code",
   "execution_count": 76,
   "id": "aggregate-senior",
   "metadata": {},
   "outputs": [
    {
     "name": "stdout",
     "output_type": "stream",
     "text": [
      "178 1059.62109375\n",
      "198 594.559326171875\n",
      "150 377.541259765625\n",
      "123 506.15673828125\n",
      "178 1059.62109375\n",
      "198 594.559326171875\n",
      "150 377.541259765625\n",
      "123 506.15673828125\n",
      "178 1059.62109375\n",
      "198 594.559326171875\n",
      "150 377.541259765625\n",
      "123 506.15673828125\n"
     ]
    }
   ],
   "source": [
    "df_AP['buy_price'] = buy_sell(df_AP,50,15)[0]\n",
    "df_AP['sell_price'] = buy_sell(df_AP,50,15)[1]\n",
    "num = buy_sell(df_AP,50,15)[2]\n"
   ]
  },
  {
   "cell_type": "code",
   "execution_count": 77,
   "id": "dramatic-remedy",
   "metadata": {},
   "outputs": [
    {
     "data": {
      "text/html": [
       "<div>\n",
       "<style scoped>\n",
       "    .dataframe tbody tr th:only-of-type {\n",
       "        vertical-align: middle;\n",
       "    }\n",
       "\n",
       "    .dataframe tbody tr th {\n",
       "        vertical-align: top;\n",
       "    }\n",
       "\n",
       "    .dataframe thead th {\n",
       "        text-align: right;\n",
       "    }\n",
       "</style>\n",
       "<table border=\"1\" class=\"dataframe\">\n",
       "  <thead>\n",
       "    <tr style=\"text-align: right;\">\n",
       "      <th></th>\n",
       "      <th>High</th>\n",
       "      <th>Low</th>\n",
       "      <th>Open</th>\n",
       "      <th>Close</th>\n",
       "      <th>Volume</th>\n",
       "      <th>Adj Close</th>\n",
       "      <th>buy_price</th>\n",
       "      <th>sell_price</th>\n",
       "    </tr>\n",
       "    <tr>\n",
       "      <th>Date</th>\n",
       "      <th></th>\n",
       "      <th></th>\n",
       "      <th></th>\n",
       "      <th></th>\n",
       "      <th></th>\n",
       "      <th></th>\n",
       "      <th></th>\n",
       "      <th></th>\n",
       "    </tr>\n",
       "  </thead>\n",
       "  <tbody>\n",
       "    <tr>\n",
       "      <th>2018-01-01</th>\n",
       "      <td>1165.550049</td>\n",
       "      <td>1140.000000</td>\n",
       "      <td>1160.0</td>\n",
       "      <td>1146.500000</td>\n",
       "      <td>21776.0</td>\n",
       "      <td>1122.931519</td>\n",
       "      <td>NaN</td>\n",
       "      <td>NaN</td>\n",
       "    </tr>\n",
       "    <tr>\n",
       "      <th>2018-01-02</th>\n",
       "      <td>1149.400024</td>\n",
       "      <td>1134.949951</td>\n",
       "      <td>1145.0</td>\n",
       "      <td>1142.849976</td>\n",
       "      <td>22009.0</td>\n",
       "      <td>1119.356445</td>\n",
       "      <td>NaN</td>\n",
       "      <td>NaN</td>\n",
       "    </tr>\n",
       "    <tr>\n",
       "      <th>2018-01-03</th>\n",
       "      <td>1150.000000</td>\n",
       "      <td>1136.000000</td>\n",
       "      <td>1150.0</td>\n",
       "      <td>1141.099976</td>\n",
       "      <td>636697.0</td>\n",
       "      <td>1117.642578</td>\n",
       "      <td>1117.642578</td>\n",
       "      <td>NaN</td>\n",
       "    </tr>\n",
       "    <tr>\n",
       "      <th>2018-01-04</th>\n",
       "      <td>1178.699951</td>\n",
       "      <td>1148.199951</td>\n",
       "      <td>1149.5</td>\n",
       "      <td>1172.050049</td>\n",
       "      <td>75615.0</td>\n",
       "      <td>1147.956421</td>\n",
       "      <td>NaN</td>\n",
       "      <td>NaN</td>\n",
       "    </tr>\n",
       "    <tr>\n",
       "      <th>2018-01-05</th>\n",
       "      <td>1191.000000</td>\n",
       "      <td>1168.550049</td>\n",
       "      <td>1172.0</td>\n",
       "      <td>1183.750000</td>\n",
       "      <td>58612.0</td>\n",
       "      <td>1159.415771</td>\n",
       "      <td>NaN</td>\n",
       "      <td>NaN</td>\n",
       "    </tr>\n",
       "  </tbody>\n",
       "</table>\n",
       "</div>"
      ],
      "text/plain": [
       "                   High          Low    Open        Close    Volume  \\\n",
       "Date                                                                  \n",
       "2018-01-01  1165.550049  1140.000000  1160.0  1146.500000   21776.0   \n",
       "2018-01-02  1149.400024  1134.949951  1145.0  1142.849976   22009.0   \n",
       "2018-01-03  1150.000000  1136.000000  1150.0  1141.099976  636697.0   \n",
       "2018-01-04  1178.699951  1148.199951  1149.5  1172.050049   75615.0   \n",
       "2018-01-05  1191.000000  1168.550049  1172.0  1183.750000   58612.0   \n",
       "\n",
       "              Adj Close    buy_price  sell_price  \n",
       "Date                                              \n",
       "2018-01-01  1122.931519          NaN         NaN  \n",
       "2018-01-02  1119.356445          NaN         NaN  \n",
       "2018-01-03  1117.642578  1117.642578         NaN  \n",
       "2018-01-04  1147.956421          NaN         NaN  \n",
       "2018-01-05  1159.415771          NaN         NaN  "
      ]
     },
     "execution_count": 77,
     "metadata": {},
     "output_type": "execute_result"
    }
   ],
   "source": [
    "df_AP.head()"
   ]
  },
  {
   "cell_type": "code",
   "execution_count": 78,
   "id": "undefined-expense",
   "metadata": {},
   "outputs": [
    {
     "data": {
      "image/png": "[encoded data removed]",
      "text/plain": [
       "<Figure size 864x504 with 1 Axes>"
      ]
     },
     "metadata": {
      "needs_background": "light"
     },
     "output_type": "display_data"
    },
    {
     "data": {
      "image/png": "[encoded data removed]",
      "text/plain": [
       "<Figure size 864x504 with 1 Axes>"
      ]
     },
     "metadata": {
      "needs_background": "light"
     },
     "output_type": "display_data"
    }
   ],
   "source": [
    "### visualizing buy and sell value with green and red color marker\n",
    "\n",
    "plt.figure(figsize=(12,7))\n",
    "plt.plot(df_AP.index,df_AP['Adj Close'],color='blue',alpha = 0.3)\n",
    "plt.scatter(df_AP.index,df_AP['buy_price'],color='green', marker = '^', alpha = 1)\n",
    "plt.scatter(df_AP.index,df_AP['sell_price'],color='red', marker = '>', alpha = 1)\n",
    "plt.xlabel('Dates')\n",
    "plt.ylabel('price')\n",
    "plt.show()\n",
    "\n",
    "plt.figure(figsize=(12,7))\n",
    "plt.plot(df_AP.index[1:],MFI.dropna(),color='blue',alpha = 0.3)\n",
    "plt.xlabel('Dates')\n",
    "plt.ylabel('ind')\n",
    "plt.show()"
   ]
  },
  {
   "cell_type": "code",
   "execution_count": 79,
   "id": "bottom-deputy",
   "metadata": {},
   "outputs": [
    {
     "name": "stdout",
     "output_type": "stream",
     "text": [
      "178 1059.62109375\n",
      "198 594.559326171875\n",
      "150 377.541259765625\n",
      "123 506.15673828125\n",
      "178 1059.62109375\n",
      "198 594.559326171875\n",
      "150 377.541259765625\n",
      "123 506.15673828125\n"
     ]
    }
   ],
   "source": [
    "buy = pd.Series(buy_sell(df_AP,50,15)[0])\n",
    "selll =  pd.Series(buy_sell(df_AP,50,15)[1])\n",
    "buy.dropna(inplace=True)\n",
    "selll.dropna(inplace=True)"
   ]
  },
  {
   "cell_type": "code",
   "execution_count": 83,
   "id": "furnished-native",
   "metadata": {},
   "outputs": [],
   "source": [
    "profit = 0\n",
    "for i in range(len(buy)):\n",
    "    profit = profit + (selll.values - buy.values)*num[i]"
   ]
  },
  {
   "cell_type": "code",
   "execution_count": 84,
   "id": "directed-listening",
   "metadata": {},
   "outputs": [
    {
     "data": {
      "text/plain": [
       "207562.51135253906"
      ]
     },
     "execution_count": 84,
     "metadata": {},
     "output_type": "execute_result"
    }
   ],
   "source": [
    "### profit you would make after selling 10 shares, according to the method you are selling 10 shares only throughout the time\n",
    "profit"
   ]
  },
  {
   "cell_type": "code",
   "execution_count": null,
   "id": "requested-closing",
   "metadata": {},
   "outputs": [],
   "source": []
  }
 ],
 "metadata": {
  "kernelspec": {
   "display_name": "Python 3",
   "language": "python",
   "name": "python3"
  },
  "language_info": {
   "codemirror_mode": {
    "name": "ipython",
    "version": 3
   },
   "file_extension": ".py",
   "mimetype": "text/x-python",
   "name": "python",
   "nbconvert_exporter": "python",
   "pygments_lexer": "ipython3",
   "version": "3.7.9"
  }
 },
 "nbformat": 4,
 "nbformat_minor": 5
}
